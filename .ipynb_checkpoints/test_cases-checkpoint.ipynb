{
 "cells": [
  {
   "cell_type": "code",
   "execution_count": 23,
   "metadata": {},
   "outputs": [],
   "source": [
    "import importlib\n",
    "\n",
    "import os\n",
    "\n",
    "import argparse\n",
    "import sys\n",
    "import utils_package\n",
    "from utils_package.certificate_creator import print_certificate\n",
    "from utils_package.decorators import timeit,func_name\n",
    "from utils_package.iterator_class import FileIter\n",
    "from utils_package.send_mail import mailer\n",
    "from utils_package.parser_args import filename, path, sleep_timer\n",
    "\n",
    "from functools import wraps"
   ]
  },
  {
   "cell_type": "markdown",
   "metadata": {},
   "source": [
    "# 1"
   ]
  },
  {
   "cell_type": "code",
   "execution_count": 8,
   "metadata": {},
   "outputs": [],
   "source": [
    "import sys\n",
    "import cv2\n",
    "def test_import_external_packages():\n",
    "\tpackage_name = 'cv2'\n",
    "\tif package_name in sys.modules:\n",
    "\t\tprint(f'{package_name} is imported successfully')"
   ]
  },
  {
   "cell_type": "code",
   "execution_count": 9,
   "metadata": {},
   "outputs": [
    {
     "name": "stdout",
     "output_type": "stream",
     "text": [
      "cv2 is imported successfully\n"
     ]
    }
   ],
   "source": [
    "test_import_external_packages()"
   ]
  },
  {
   "cell_type": "code",
   "execution_count": 13,
   "metadata": {},
   "outputs": [
    {
     "name": "stdout",
     "output_type": "stream",
     "text": [
      "pytest is imported successfully\n",
      "datetime is imported successfully\n",
      "email_validator is imported successfully\n",
      "PIL is imported successfully\n",
      "img2pdf is imported successfully\n",
      "smtplib is imported successfully\n",
      "csv is imported successfully\n"
     ]
    },
    {
     "data": {
      "text/plain": [
       "[None, None, None, None, None, None, None]"
      ]
     },
     "execution_count": 13,
     "metadata": {},
     "output_type": "execute_result"
    }
   ],
   "source": [
    "import pytest\n",
    "import datetime\n",
    "import email_validator\n",
    "import PIL\n",
    "import img2pdf\n",
    "import smtplib\n",
    "import csv\n",
    "import cv2\n",
    "import sys\n",
    "\n",
    "package_list = ['pytest','datetime','email_validator','PIL','img2pdf','smtplib','csv']\n",
    "\n",
    "def test_import_external_packages(package_name):\n",
    "\t#package_name = 'cv2'\n",
    "\tif package_name in sys.modules:\n",
    "\t\tprint(f'{package_name} is imported successfully')\n",
    "list(map(test_import_external_packages,package_list))\n"
   ]
  },
  {
   "cell_type": "code",
   "execution_count": 15,
   "metadata": {},
   "outputs": [
    {
     "name": "stdout",
     "output_type": "stream",
     "text": [
      "pytest is imported successfully\n",
      "datetime is imported successfully\n",
      "email_validator is imported successfully\n",
      "PIL is imported successfully\n",
      "img2pdf is imported successfully\n",
      "smtplib is imported successfully\n",
      "csv is imported successfully\n"
     ]
    }
   ],
   "source": [
    "package_list = ['pytest','datetime','email_validator','PIL','img2pdf','smtplib','csv']\n",
    "\n",
    "for package_name in package_list:\n",
    "    if package_name in sys.modules:\n",
    "        print(f'{package_name} is imported successfully')"
   ]
  },
  {
   "cell_type": "code",
   "execution_count": null,
   "metadata": {},
   "outputs": [],
   "source": []
  },
  {
   "cell_type": "code",
   "execution_count": null,
   "metadata": {},
   "outputs": [],
   "source": [
    "def test_iter_class_an_iterable(params):\n",
    "\n",
    "\t#iter, any_check = tee(FileIter(params['filename']))\n",
    "\titems = FileIter(params['filename'])\n",
    "\tcsv_info= \"\".join(next(items))\n",
    "\tcsv_info_list = csv_info.split('\\n')\n",
    "\tcsv_info_iterator = iter(csv_info_list)\n",
    "  assert csv_info_iterator.__next__() == True, \"Not an iterator\""
   ]
  },
  {
   "cell_type": "code",
   "execution_count": null,
   "metadata": {},
   "outputs": [],
   "source": []
  },
  {
   "cell_type": "code",
   "execution_count": 96,
   "metadata": {},
   "outputs": [
    {
     "name": "stdout",
     "output_type": "stream",
     "text": [
      "True\n"
     ]
    }
   ],
   "source": [
    "import csv\n",
    "with open('file2.csv', 'r') as csvfile:\n",
    "    sample = csvfile.read()\n",
    "    has_header = csv.Sniffer().has_header(sample)\n",
    "    print(has_header)"
   ]
  },
  {
   "cell_type": "code",
   "execution_count": 116,
   "metadata": {},
   "outputs": [],
   "source": [
    "with open('file2.csv', 'r') as csvfile:\n",
    "    sample = csvfile.read()\n",
    "\n",
    "# print(len(sample.split('\\n')))\n",
    "# #print(sample[0])\n",
    "# print(sample.split('\\n')[0])\n",
    "# print(len(sample.split('\\n')[0].split(',')))\n",
    "\n",
    "# print(sample.split('\\n')[1])\n",
    "# print(len(sample.split('\\n')[1].split(',')))\n",
    "assert (len(sample.split('\\n')[1].split(','))) == 4, \"Not enough data or not in correct format\""
   ]
  },
  {
   "cell_type": "code",
   "execution_count": null,
   "metadata": {},
   "outputs": [],
   "source": []
  },
  {
   "cell_type": "code",
   "execution_count": 129,
   "metadata": {},
   "outputs": [],
   "source": [
    "from datetime import datetime\n",
    "\n",
    "date_object = datetime(2021, 4, 24)\n",
    "#print(date_string)\n",
    "date_str = date_object.strftime(\"%d\")+\"th \" +date_object.strftime(\"%B\")+\" \"+date_object.strftime(\"%Y\")\n",
    "assert date_str == '24th April 2021', \"Date not in the right format\""
   ]
  },
  {
   "cell_type": "code",
   "execution_count": 1,
   "metadata": {},
   "outputs": [
    {
     "name": "stdout",
     "output_type": "stream",
     "text": [
      "sr 3\n"
     ]
    }
   ],
   "source": [
    "a=['sr',1,3,'532']\n",
    "print(a[0],a[2])"
   ]
  },
  {
   "cell_type": "code",
   "execution_count": 33,
   "metadata": {},
   "outputs": [
    {
     "name": "stdout",
     "output_type": "stream",
     "text": [
      "['/home/cv/workspace2/EpAI2.0_CapStone/certificates/Name_certificate.pdf', '/home/cv/workspace2/EpAI2.0_CapStone/certificates/JacobStein_certificate.pdf', '/home/cv/workspace2/EpAI2.0_CapStone/certificates/RuthHoffman_certificate.pdf', '/home/cv/workspace2/EpAI2.0_CapStone/certificates/ScottBaker_certificate.pdf', '/home/cv/workspace2/EpAI2.0_CapStone/certificates/JamesSandoval_certificate.pdf', '/home/cv/workspace2/EpAI2.0_CapStone/certificates/Chiru_certificate.pdf', '/home/cv/workspace2/EpAI2.0_CapStone/certificates/BrianMaxwell_certificate.pdf', '/home/cv/workspace2/EpAI2.0_CapStone/certificates/DavidMoody_certificate.pdf', '/home/cv/workspace2/EpAI2.0_CapStone/certificates/BrianLester_certificate.pdf', '/home/cv/workspace2/EpAI2.0_CapStone/certificates/LarryMorales_certificate.pdf', '/home/cv/workspace2/EpAI2.0_CapStone/certificates/MorganFoster_certificate.pdf', '/home/cv/workspace2/EpAI2.0_CapStone/certificates/BrianMoore_certificate.pdf', '/home/cv/workspace2/EpAI2.0_CapStone/certificates/JessicaHendricks_certificate.pdf', '/home/cv/workspace2/EpAI2.0_CapStone/certificates/CoryCooper_certificate.pdf', '/home/cv/workspace2/EpAI2.0_CapStone/certificates/CodyBrown_certificate.pdf', '/home/cv/workspace2/EpAI2.0_CapStone/certificates/DanielGeorge_certificate.pdf', '/home/cv/workspace2/EpAI2.0_CapStone/certificates/JasonBrown_certificate.pdf']\n"
     ]
    }
   ],
   "source": [
    "from glob import glob\n",
    "\n",
    "path = '/home/cv/workspace2/EpAI2.0_CapStone/certificates'\n",
    "pdf_glob = glob(path+\"/*.pdf\")\n",
    "print(pdf_glob)"
   ]
  },
  {
   "cell_type": "code",
   "execution_count": 21,
   "metadata": {},
   "outputs": [],
   "source": [
    "def square(a):\n",
    "\n",
    "    return a**a"
   ]
  },
  {
   "cell_type": "code",
   "execution_count": 22,
   "metadata": {},
   "outputs": [
    {
     "name": "stdout",
     "output_type": "stream",
     "text": [
      "None\n"
     ]
    }
   ],
   "source": [
    "print (square.__doc__)"
   ]
  },
  {
   "cell_type": "code",
   "execution_count": 18,
   "metadata": {},
   "outputs": [
    {
     "ename": "FileNotFoundError",
     "evalue": "[Errno 2] No such file or directory: 'google.com': 'google.com'",
     "output_type": "error",
     "traceback": [
      "\u001b[0;31m---------------------------------------------------------------------------\u001b[0m",
      "\u001b[0;31mFileNotFoundError\u001b[0m                         Traceback (most recent call last)",
      "\u001b[0;32m<ipython-input-18-1bc8751bf948>\u001b[0m in \u001b[0;36m<module>\u001b[0;34m\u001b[0m\n\u001b[1;32m     27\u001b[0m \u001b[0;31m# sample hard code for test\u001b[0m\u001b[0;34m\u001b[0m\u001b[0;34m\u001b[0m\u001b[0;34m\u001b[0m\u001b[0m\n\u001b[1;32m     28\u001b[0m \u001b[0mhost\u001b[0m \u001b[0;34m=\u001b[0m \u001b[0;34m'google.com'\u001b[0m\u001b[0;34m\u001b[0m\u001b[0;34m\u001b[0m\u001b[0m\n\u001b[0;32m---> 29\u001b[0;31m \u001b[0mprint\u001b[0m\u001b[0;34m(\u001b[0m\u001b[0;34m[\u001b[0m\u001b[0mhost\u001b[0m\u001b[0;34m,\u001b[0m \u001b[0mget_ping_time\u001b[0m\u001b[0;34m(\u001b[0m\u001b[0mhost\u001b[0m\u001b[0;34m)\u001b[0m\u001b[0;34m]\u001b[0m\u001b[0;34m)\u001b[0m\u001b[0;34m\u001b[0m\u001b[0;34m\u001b[0m\u001b[0m\n\u001b[0m\u001b[1;32m     30\u001b[0m \u001b[0;34m\u001b[0m\u001b[0m\n\u001b[1;32m     31\u001b[0m \u001b[0mhost\u001b[0m \u001b[0;34m=\u001b[0m \u001b[0;34m'besparapp.com'\u001b[0m\u001b[0;34m\u001b[0m\u001b[0;34m\u001b[0m\u001b[0m\n",
      "\u001b[0;32m<ipython-input-18-1bc8751bf948>\u001b[0m in \u001b[0;36mget_ping_time\u001b[0;34m(host)\u001b[0m\n\u001b[1;32m     15\u001b[0m     \u001b[0mcmd\u001b[0m \u001b[0;34m=\u001b[0m \u001b[0;34m\" {host} -C 3 -q\"\u001b[0m\u001b[0;34m.\u001b[0m\u001b[0mformat\u001b[0m\u001b[0;34m(\u001b[0m\u001b[0mhost\u001b[0m\u001b[0;34m=\u001b[0m\u001b[0mhost\u001b[0m\u001b[0;34m)\u001b[0m\u001b[0;34m\u001b[0m\u001b[0;34m\u001b[0m\u001b[0m\n\u001b[1;32m     16\u001b[0m     \u001b[0;31m# result = str(get_simple_cmd_output(cmd)).replace('\\\\','').split(':')[-1].split() if x != '-']\u001b[0m\u001b[0;34m\u001b[0m\u001b[0;34m\u001b[0m\u001b[0;34m\u001b[0m\u001b[0m\n\u001b[0;32m---> 17\u001b[0;31m     result = str(get_simple_cmd_output(cmd)).replace('\\\\', '').split(':')[-1].replace(\"n'\", '').replace(\"-\",\n\u001b[0m\u001b[1;32m     18\u001b[0m                                                                                                         \u001b[0;34m''\u001b[0m\u001b[0;34m)\u001b[0m\u001b[0;34m.\u001b[0m\u001b[0mreplace\u001b[0m\u001b[0;34m(\u001b[0m\u001b[0;34m\u001b[0m\u001b[0;34m\u001b[0m\u001b[0m\n\u001b[1;32m     19\u001b[0m         \"b''\", '').split()\n",
      "\u001b[0;32m<ipython-input-18-1bc8751bf948>\u001b[0m in \u001b[0;36mget_simple_cmd_output\u001b[0;34m(cmd, stderr)\u001b[0m\n\u001b[1;32m      8\u001b[0m     \"\"\"\n\u001b[1;32m      9\u001b[0m     \u001b[0margs\u001b[0m \u001b[0;34m=\u001b[0m \u001b[0mshlex\u001b[0m\u001b[0;34m.\u001b[0m\u001b[0msplit\u001b[0m\u001b[0;34m(\u001b[0m\u001b[0mcmd\u001b[0m\u001b[0;34m)\u001b[0m\u001b[0;34m\u001b[0m\u001b[0;34m\u001b[0m\u001b[0m\n\u001b[0;32m---> 10\u001b[0;31m     \u001b[0;32mreturn\u001b[0m \u001b[0mPopen\u001b[0m\u001b[0;34m(\u001b[0m\u001b[0margs\u001b[0m\u001b[0;34m,\u001b[0m \u001b[0mstdout\u001b[0m\u001b[0;34m=\u001b[0m\u001b[0mPIPE\u001b[0m\u001b[0;34m,\u001b[0m \u001b[0mstderr\u001b[0m\u001b[0;34m=\u001b[0m\u001b[0mstderr\u001b[0m\u001b[0;34m)\u001b[0m\u001b[0;34m.\u001b[0m\u001b[0mcommunicate\u001b[0m\u001b[0;34m(\u001b[0m\u001b[0;34m)\u001b[0m\u001b[0;34m[\u001b[0m\u001b[0;36m0\u001b[0m\u001b[0;34m]\u001b[0m\u001b[0;34m\u001b[0m\u001b[0;34m\u001b[0m\u001b[0m\n\u001b[0m\u001b[1;32m     11\u001b[0m \u001b[0;34m\u001b[0m\u001b[0m\n\u001b[1;32m     12\u001b[0m \u001b[0;34m\u001b[0m\u001b[0m\n",
      "\u001b[0;32m~/anaconda3/envs/pytorch_p36/lib/python3.6/subprocess.py\u001b[0m in \u001b[0;36m__init__\u001b[0;34m(self, args, bufsize, executable, stdin, stdout, stderr, preexec_fn, close_fds, shell, cwd, env, universal_newlines, startupinfo, creationflags, restore_signals, start_new_session, pass_fds, encoding, errors)\u001b[0m\n\u001b[1;32m    727\u001b[0m                                 \u001b[0mc2pread\u001b[0m\u001b[0;34m,\u001b[0m \u001b[0mc2pwrite\u001b[0m\u001b[0;34m,\u001b[0m\u001b[0;34m\u001b[0m\u001b[0;34m\u001b[0m\u001b[0m\n\u001b[1;32m    728\u001b[0m                                 \u001b[0merrread\u001b[0m\u001b[0;34m,\u001b[0m \u001b[0merrwrite\u001b[0m\u001b[0;34m,\u001b[0m\u001b[0;34m\u001b[0m\u001b[0;34m\u001b[0m\u001b[0m\n\u001b[0;32m--> 729\u001b[0;31m                                 restore_signals, start_new_session)\n\u001b[0m\u001b[1;32m    730\u001b[0m         \u001b[0;32mexcept\u001b[0m\u001b[0;34m:\u001b[0m\u001b[0;34m\u001b[0m\u001b[0;34m\u001b[0m\u001b[0m\n\u001b[1;32m    731\u001b[0m             \u001b[0;31m# Cleanup if the child failed starting.\u001b[0m\u001b[0;34m\u001b[0m\u001b[0;34m\u001b[0m\u001b[0;34m\u001b[0m\u001b[0m\n",
      "\u001b[0;32m~/anaconda3/envs/pytorch_p36/lib/python3.6/subprocess.py\u001b[0m in \u001b[0;36m_execute_child\u001b[0;34m(self, args, executable, preexec_fn, close_fds, pass_fds, cwd, env, startupinfo, creationflags, shell, p2cread, p2cwrite, c2pread, c2pwrite, errread, errwrite, restore_signals, start_new_session)\u001b[0m\n\u001b[1;32m   1362\u001b[0m                         \u001b[0;32mif\u001b[0m \u001b[0merrno_num\u001b[0m \u001b[0;34m==\u001b[0m \u001b[0merrno\u001b[0m\u001b[0;34m.\u001b[0m\u001b[0mENOENT\u001b[0m\u001b[0;34m:\u001b[0m\u001b[0;34m\u001b[0m\u001b[0;34m\u001b[0m\u001b[0m\n\u001b[1;32m   1363\u001b[0m                             \u001b[0merr_msg\u001b[0m \u001b[0;34m+=\u001b[0m \u001b[0;34m': '\u001b[0m \u001b[0;34m+\u001b[0m \u001b[0mrepr\u001b[0m\u001b[0;34m(\u001b[0m\u001b[0merr_filename\u001b[0m\u001b[0;34m)\u001b[0m\u001b[0;34m\u001b[0m\u001b[0;34m\u001b[0m\u001b[0m\n\u001b[0;32m-> 1364\u001b[0;31m                     \u001b[0;32mraise\u001b[0m \u001b[0mchild_exception_type\u001b[0m\u001b[0;34m(\u001b[0m\u001b[0merrno_num\u001b[0m\u001b[0;34m,\u001b[0m \u001b[0merr_msg\u001b[0m\u001b[0;34m,\u001b[0m \u001b[0merr_filename\u001b[0m\u001b[0;34m)\u001b[0m\u001b[0;34m\u001b[0m\u001b[0;34m\u001b[0m\u001b[0m\n\u001b[0m\u001b[1;32m   1365\u001b[0m                 \u001b[0;32mraise\u001b[0m \u001b[0mchild_exception_type\u001b[0m\u001b[0;34m(\u001b[0m\u001b[0merr_msg\u001b[0m\u001b[0;34m)\u001b[0m\u001b[0;34m\u001b[0m\u001b[0;34m\u001b[0m\u001b[0m\n\u001b[1;32m   1366\u001b[0m \u001b[0;34m\u001b[0m\u001b[0m\n",
      "\u001b[0;31mFileNotFoundError\u001b[0m: [Errno 2] No such file or directory: 'google.com': 'google.com'"
     ]
    }
   ],
   "source": [
    "import shlex\n",
    "from subprocess import Popen, PIPE, STDOUT\n",
    "\n",
    "\n",
    "def get_simple_cmd_output(cmd, stderr=STDOUT):\n",
    "    \"\"\"\n",
    "    Execute a simple external command and get its output.\n",
    "    \"\"\"\n",
    "    args = shlex.split(cmd)\n",
    "    return Popen(args, stdout=PIPE, stderr=stderr).communicate()[0]\n",
    "\n",
    "\n",
    "def get_ping_time(host):\n",
    "    host = host.split(':')[0]\n",
    "    cmd = \" {host} -C 3 -q\".format(host=host)\n",
    "    # result = str(get_simple_cmd_output(cmd)).replace('\\\\','').split(':')[-1].split() if x != '-']\n",
    "    result = str(get_simple_cmd_output(cmd)).replace('\\\\', '').split(':')[-1].replace(\"n'\", '').replace(\"-\",\n",
    "                                                                                                        '').replace(\n",
    "        \"b''\", '').split()\n",
    "    res = [float(x) for x in result]\n",
    "    if len(res) > 0:\n",
    "        return sum(res) / len(res)\n",
    "    else:\n",
    "        return 999999\n",
    "\n",
    "\n",
    "# sample hard code for test\n",
    "host = 'google.com'\n",
    "print([host, get_ping_time(host)])\n",
    "\n",
    "host = 'besparapp.com'\n",
    "print([host, get_ping_time(host)])"
   ]
  },
  {
   "cell_type": "code",
   "execution_count": null,
   "metadata": {},
   "outputs": [],
   "source": []
  },
  {
   "cell_type": "code",
   "execution_count": 34,
   "metadata": {},
   "outputs": [
    {
     "name": "stdout",
     "output_type": "stream",
     "text": [
      "Dear qwrqwewqe,\n",
      "Congratulations!\n"
     ]
    }
   ],
   "source": [
    "name='qwrqwewqe'\n",
    "body=(f'Dear {name},\\nCongratulations!')\n",
    "co = body\n",
    "print(co)"
   ]
  },
  {
   "cell_type": "code",
   "execution_count": null,
   "metadata": {},
   "outputs": [],
   "source": []
  },
  {
   "cell_type": "code",
   "execution_count": 25,
   "metadata": {},
   "outputs": [],
   "source": [
    "from functools import wraps\n",
    "import urllib.request\n",
    "def is_connected(fn):\n",
    "\n",
    "\t@wraps(fn)\n",
    "\tdef connected(*args, **kwargs):\n",
    "\t\tresult = fn(*args, **kwargs)\n",
    "\t\tif urllib.request.urlopen('http://google.com'):\n",
    "\t\t\t# connect to the host -- tells us if the host is actually\n",
    "\t\t\t# reachable\n",
    "\t\t\treturn (\"Connected to internet\")\n",
    "\t\telse:\n",
    "\t\t\treturn (\"Not connected to internet\")\n",
    "\treturn connected"
   ]
  },
  {
   "cell_type": "code",
   "execution_count": 30,
   "metadata": {},
   "outputs": [],
   "source": [
    "@is_connected\n",
    "def add(x):\n",
    "    print(\"Nothing\")\n",
    "\n"
   ]
  },
  {
   "cell_type": "code",
   "execution_count": 31,
   "metadata": {},
   "outputs": [
    {
     "name": "stdout",
     "output_type": "stream",
     "text": [
      "Nothing\n"
     ]
    },
    {
     "data": {
      "text/plain": [
       "'Connected to internet'"
      ]
     },
     "execution_count": 31,
     "metadata": {},
     "output_type": "execute_result"
    }
   ],
   "source": [
    "add(1)"
   ]
  },
  {
   "cell_type": "code",
   "execution_count": 5,
   "metadata": {},
   "outputs": [
    {
     "name": "stdout",
     "output_type": "stream",
     "text": [
      "['1', 'name', 'score', 'email']\n"
     ]
    }
   ],
   "source": [
    "index = '1'\n",
    "info_obj = str(index)+ str(',name') +str(',score') + str(',email')\n",
    "print(info_obj.split(','))"
   ]
  },
  {
   "cell_type": "code",
   "execution_count": 131,
   "metadata": {},
   "outputs": [],
   "source": [
    "def im():\n",
    "\tp=\"sfes\"\n",
    "\treturn p"
   ]
  },
  {
   "cell_type": "code",
   "execution_count": 132,
   "metadata": {},
   "outputs": [
    {
     "ename": "NameError",
     "evalue": "name 'name' is not defined",
     "output_type": "error",
     "traceback": [
      "\u001b[0;31m---------------------------------------------------------------------------\u001b[0m",
      "\u001b[0;31mNameError\u001b[0m                                 Traceback (most recent call last)",
      "\u001b[0;32m<ipython-input-132-e560bc075e8c>\u001b[0m in \u001b[0;36m<module>\u001b[0;34m\u001b[0m\n\u001b[0;32m----> 1\u001b[0;31m \u001b[0ma\u001b[0m\u001b[0;34m=\u001b[0m\u001b[0;34m(\u001b[0m\u001b[0;34mf'Dear {name},\\nCongratulations! You have cleared the EPAI 2.0 Course with {score} marks out of TOTAL marks!\\n We are excited to share the attached Award of Excellence for your performance!\\n Regards'\u001b[0m\u001b[0;34m)\u001b[0m\u001b[0;34m\u001b[0m\u001b[0;34m\u001b[0m\u001b[0m\n\u001b[0m\u001b[1;32m      2\u001b[0m \u001b[0mprint\u001b[0m\u001b[0;34m(\u001b[0m\u001b[0ma\u001b[0m\u001b[0;34m)\u001b[0m\u001b[0;34m\u001b[0m\u001b[0;34m\u001b[0m\u001b[0m\n",
      "\u001b[0;31mNameError\u001b[0m: name 'name' is not defined"
     ]
    }
   ],
   "source": [
    "a=(f'Dear {name},\\nCongratulations! You have cleared the EPAI 2.0 Course with {score} marks out of TOTAL marks!\\n We are excited to share the attached Award of Excellence for your performance!\\n Regards')\n",
    "print(a)"
   ]
  },
  {
   "cell_type": "code",
   "execution_count": null,
   "metadata": {},
   "outputs": [],
   "source": []
  },
  {
   "cell_type": "code",
   "execution_count": 130,
   "metadata": {},
   "outputs": [
    {
     "ename": "FileExistsError",
     "evalue": "[Errno 17] File exists: '/home/cv/workspace2/EpAI2.0_CapStone/certificates'",
     "output_type": "error",
     "traceback": [
      "\u001b[0;31m---------------------------------------------------------------------------\u001b[0m",
      "\u001b[0;31mFileExistsError\u001b[0m                           Traceback (most recent call last)",
      "\u001b[0;32m<ipython-input-130-33af4853745c>\u001b[0m in \u001b[0;36m<module>\u001b[0;34m\u001b[0m\n\u001b[1;32m      1\u001b[0m \u001b[0mpath\u001b[0m \u001b[0;34m=\u001b[0m \u001b[0;34m'/home/cv/workspace2/EpAI2.0_CapStone/certificates'\u001b[0m\u001b[0;34m\u001b[0m\u001b[0;34m\u001b[0m\u001b[0m\n\u001b[0;32m----> 2\u001b[0;31m \u001b[0;32massert\u001b[0m \u001b[0mos\u001b[0m\u001b[0;34m.\u001b[0m\u001b[0mmkdir\u001b[0m\u001b[0;34m(\u001b[0m\u001b[0mpath\u001b[0m\u001b[0;34m)\u001b[0m \u001b[0;34m==\u001b[0m \u001b[0;32mTrue\u001b[0m\u001b[0;34m,\u001b[0m \u001b[0;34m\"Folder to save already exists. Do you mean to overwrite?\"\u001b[0m\u001b[0;34m\u001b[0m\u001b[0;34m\u001b[0m\u001b[0m\n\u001b[0m",
      "\u001b[0;31mFileExistsError\u001b[0m: [Errno 17] File exists: '/home/cv/workspace2/EpAI2.0_CapStone/certificates'"
     ]
    }
   ],
   "source": [
    "path = '/home/cv/workspace2/EpAI2.0_CapStone/certificates'\n",
    "assert os.mkdir(path) == True, \"Folder to save already exists. Do you mean to overwrite?\""
   ]
  },
  {
   "cell_type": "code",
   "execution_count": 127,
   "metadata": {
    "scrolled": true
   },
   "outputs": [
    {
     "data": {
      "text/plain": [
       "'.csv'"
      ]
     },
     "execution_count": 127,
     "metadata": {},
     "output_type": "execute_result"
    }
   ],
   "source": [
    "filename[-4:]"
   ]
  },
  {
   "cell_type": "code",
   "execution_count": 128,
   "metadata": {
    "scrolled": true
   },
   "outputs": [],
   "source": [
    "filename='soem.csv'\n",
    "assert filename[-4:] == '.csv', \"Not a csv file\""
   ]
  },
  {
   "cell_type": "code",
   "execution_count": 118,
   "metadata": {},
   "outputs": [],
   "source": [
    "import csv\n",
    "with open('file1.csv', 'r') as csvfile:\n",
    "    csv_dict = [row for row in csv.DictReader(csvfile)]\n",
    "    if len(csv_dict) == 0:\n",
    "        print('csv file is empty')"
   ]
  },
  {
   "cell_type": "code",
   "execution_count": 87,
   "metadata": {},
   "outputs": [
    {
     "data": {
      "text/plain": [
       "True"
      ]
     },
     "execution_count": 87,
     "metadata": {},
     "output_type": "execute_result"
    }
   ],
   "source": [
    "os.path.exists(\"/home/cv/workspace2/EpAI2.0_CapStone/certificate.jpg\")"
   ]
  },
  {
   "cell_type": "code",
   "execution_count": 86,
   "metadata": {},
   "outputs": [
    {
     "name": "stdout",
     "output_type": "stream",
     "text": [
      "The sswf\n"
     ]
    }
   ],
   "source": [
    "txt = \"the sswf\"\n",
    "print(txt.capitalize())"
   ]
  },
  {
   "cell_type": "code",
   "execution_count": 25,
   "metadata": {},
   "outputs": [
    {
     "name": "stdout",
     "output_type": "stream",
     "text": [
      "utils_package is a package\n"
     ]
    }
   ],
   "source": [
    "package_name = 'utils_package'\n",
    "if package_name in sys.modules:\n",
    "    print(f'{package_name} is a package')"
   ]
  },
  {
   "cell_type": "code",
   "execution_count": 26,
   "metadata": {},
   "outputs": [],
   "source": [
    "def authenticated(fn, auth):\n",
    "    @wraps(fn)\n",
    "    def inner(*args, **kwargs):\n",
    "        if auth:\n",
    "            return fn(*args, **kwargs)\n",
    "        else:\n",
    "            print('Not logged in')\n",
    "            return fn()\n",
    "    \n",
    "    return inner"
   ]
  },
  {
   "cell_type": "code",
   "execution_count": 30,
   "metadata": {},
   "outputs": [
    {
     "ename": "TypeError",
     "evalue": "authenticated() missing 1 required positional argument: 'auth'",
     "output_type": "error",
     "traceback": [
      "\u001b[0;31m---------------------------------------------------------------------------\u001b[0m",
      "\u001b[0;31mTypeError\u001b[0m                                 Traceback (most recent call last)",
      "\u001b[0;32m<ipython-input-30-fc90fa924baf>\u001b[0m in \u001b[0;36m<module>\u001b[0;34m\u001b[0m\n\u001b[0;32m----> 1\u001b[0;31m \u001b[0;34m@\u001b[0m\u001b[0mauthenticated\u001b[0m\u001b[0;34m(\u001b[0m\u001b[0;32mFalse\u001b[0m\u001b[0;34m)\u001b[0m\u001b[0;34m\u001b[0m\u001b[0;34m\u001b[0m\u001b[0m\n\u001b[0m\u001b[1;32m      2\u001b[0m \u001b[0;34m\u001b[0m\u001b[0m\n\u001b[1;32m      3\u001b[0m \u001b[0;32mdef\u001b[0m \u001b[0mfib\u001b[0m\u001b[0;34m(\u001b[0m\u001b[0mn\u001b[0m\u001b[0;34m)\u001b[0m\u001b[0;34m:\u001b[0m\u001b[0;34m\u001b[0m\u001b[0;34m\u001b[0m\u001b[0m\n\u001b[1;32m      4\u001b[0m     \u001b[0mprint\u001b[0m \u001b[0;34m(\u001b[0m\u001b[0;34m'Calculating fib({0})'\u001b[0m\u001b[0;34m.\u001b[0m\u001b[0mformat\u001b[0m\u001b[0;34m(\u001b[0m\u001b[0mn\u001b[0m\u001b[0;34m)\u001b[0m\u001b[0;34m)\u001b[0m\u001b[0;34m\u001b[0m\u001b[0;34m\u001b[0m\u001b[0m\n\u001b[1;32m      5\u001b[0m     \u001b[0;32mreturn\u001b[0m \u001b[0;36m1\u001b[0m \u001b[0;32mif\u001b[0m \u001b[0mn\u001b[0m \u001b[0;34m<\u001b[0m \u001b[0;36m3\u001b[0m \u001b[0;32melse\u001b[0m \u001b[0mfib\u001b[0m\u001b[0;34m(\u001b[0m\u001b[0mn\u001b[0m\u001b[0;34m-\u001b[0m\u001b[0;36m1\u001b[0m\u001b[0;34m)\u001b[0m \u001b[0;34m+\u001b[0m \u001b[0mfib\u001b[0m\u001b[0;34m(\u001b[0m\u001b[0mn\u001b[0m\u001b[0;34m-\u001b[0m\u001b[0;36m2\u001b[0m\u001b[0;34m)\u001b[0m\u001b[0;34m\u001b[0m\u001b[0;34m\u001b[0m\u001b[0m\n",
      "\u001b[0;31mTypeError\u001b[0m: authenticated() missing 1 required positional argument: 'auth'"
     ]
    }
   ],
   "source": [
    "@authenticated(False)\n",
    "\n",
    "def fib(n):\n",
    "    print ('Calculating fib({0})'.format(n))\n",
    "    return 1 if n < 3 else fib(n-1) + fib(n-2)"
   ]
  },
  {
   "cell_type": "code",
   "execution_count": null,
   "metadata": {},
   "outputs": [],
   "source": []
  },
  {
   "cell_type": "code",
   "execution_count": 54,
   "metadata": {},
   "outputs": [],
   "source": [
    "#Authenticate\n",
    "def set_password(password=None):\n",
    "    '''Sets the default password if no values are supplied\n",
    "    :args password: str\n",
    "    :returns inner: closure function\n",
    "    '''\n",
    "    def inner():\n",
    "        nonlocal password\n",
    "        if password == None:\n",
    "            password = 'tsaiRocks123'\n",
    "        return hash(password)\n",
    "    return inner\n",
    "\n",
    "def authenticate(fn):\n",
    "    '''Decorator to authenticate  before accessing any functions'''\n",
    "\n",
    "    def check_creds(user_password, in_password, *args, **kwargs):\n",
    "        if user_password() != hash(in_password):\n",
    "            print('Password Mismatch')\n",
    "\n",
    "        else:\n",
    "            print('user Authenticated')\n",
    "            print(f\"Function {fn.__name__} is called\")\n",
    "            return fn(*args)\n",
    "    return check_creds"
   ]
  },
  {
   "cell_type": "code",
   "execution_count": 55,
   "metadata": {},
   "outputs": [],
   "source": [
    "@authenticate\n",
    "def add_auth(*args):\n",
    "    return sum(args)"
   ]
  },
  {
   "cell_type": "code",
   "execution_count": 60,
   "metadata": {},
   "outputs": [],
   "source": [
    "def test_authentication():\n",
    "    '''Checks the authentication by setting a password and calling the function'''\n",
    "    user_password = set_password()\n",
    "    assert add_auth(user_password, 'tsaiRocks123', 1,2) == 3\n",
    "    #assert add_auth(user_password, 'dfdssdf', 1,2) == None"
   ]
  },
  {
   "cell_type": "code",
   "execution_count": 62,
   "metadata": {},
   "outputs": [
    {
     "name": "stdout",
     "output_type": "stream",
     "text": [
      "user Authenticated\n",
      "Function add_auth is called\n"
     ]
    }
   ],
   "source": [
    "test_authentication()"
   ]
  },
  {
   "cell_type": "code",
   "execution_count": 46,
   "metadata": {},
   "outputs": [
    {
     "ename": "TypeError",
     "evalue": "check_creds() missing 1 required positional argument: 'in_password'",
     "output_type": "error",
     "traceback": [
      "\u001b[0;31m---------------------------------------------------------------------------\u001b[0m",
      "\u001b[0;31mTypeError\u001b[0m                                 Traceback (most recent call last)",
      "\u001b[0;32m<ipython-input-46-9a07d09d74bc>\u001b[0m in \u001b[0;36m<module>\u001b[0;34m\u001b[0m\n\u001b[1;32m      6\u001b[0m     \u001b[0;32mreturn\u001b[0m \u001b[0mreduce\u001b[0m\u001b[0;34m(\u001b[0m\u001b[0mmul\u001b[0m\u001b[0;34m,\u001b[0m \u001b[0mrange\u001b[0m\u001b[0;34m(\u001b[0m\u001b[0;36m1\u001b[0m\u001b[0;34m,\u001b[0m \u001b[0mn\u001b[0m\u001b[0;34m+\u001b[0m\u001b[0;36m1\u001b[0m\u001b[0;34m)\u001b[0m\u001b[0;34m)\u001b[0m\u001b[0;34m\u001b[0m\u001b[0;34m\u001b[0m\u001b[0m\n\u001b[1;32m      7\u001b[0m \u001b[0;34m\u001b[0m\u001b[0m\n\u001b[0;32m----> 8\u001b[0;31m \u001b[0mfactorial\u001b[0m\u001b[0;34m(\u001b[0m\u001b[0;36m4\u001b[0m\u001b[0;34m)\u001b[0m\u001b[0;34m\u001b[0m\u001b[0;34m\u001b[0m\u001b[0m\n\u001b[0m",
      "\u001b[0;31mTypeError\u001b[0m: check_creds() missing 1 required positional argument: 'in_password'"
     ]
    }
   ],
   "source": [
    "# @authenticate\n",
    "\n",
    "# def factorial(n):\n",
    "#     from operator import mul\n",
    "#     from functools import reduce\n",
    "#     return reduce(mul, range(1, n+1))\n",
    "\n",
    "# factorial(4)"
   ]
  },
  {
   "cell_type": "code",
   "execution_count": 67,
   "metadata": {},
   "outputs": [
    {
     "name": "stdout",
     "output_type": "stream",
     "text": [
      "valid email\n"
     ]
    }
   ],
   "source": [
    "from email_validator import validate_email, EmailNotValidError\n",
    "\n",
    "email = \"chirantan.rude@example.net\"\n",
    "\n",
    "try:\n",
    "      # Validate.\n",
    "        valid = validate_email(email)\n",
    "        print(\"valid email\")\n",
    "      # Update with the normalized form.\n",
    "        email = valid.email\n",
    "except EmailNotValidError as e:\n",
    "  # email is not valid, exception message is human-readable\n",
    "  print(str(e))"
   ]
  },
  {
   "cell_type": "code",
   "execution_count": 69,
   "metadata": {},
   "outputs": [],
   "source": [
    "email = \"chirantan.rude@example.net\"\n",
    "def test_valid_email(email):\n",
    "    try:\n",
    "        # Validate.\n",
    "        valid = validate_email(email)\n",
    "        print(\"valid email\")\n",
    "        # Update with the normalized form.\n",
    "        email = valid.email\n",
    "    except EmailNotValidError as e:\n",
    "        # email is not valid, exception message is human-readable\n",
    "        print(str(e))"
   ]
  },
  {
   "cell_type": "code",
   "execution_count": 70,
   "metadata": {},
   "outputs": [
    {
     "name": "stdout",
     "output_type": "stream",
     "text": [
      "valid email\n"
     ]
    }
   ],
   "source": [
    "test_valid_email(email)"
   ]
  },
  {
   "cell_type": "code",
   "execution_count": 78,
   "metadata": {},
   "outputs": [
    {
     "name": "stdout",
     "output_type": "stream",
     "text": [
      "Valid Email\n",
      "Valid Email\n"
     ]
    }
   ],
   "source": [
    "import re   \n",
    "  \n",
    "regex = '^[a-z0-9]+[\\._]?[a-z0-9]+[@]\\w+[.]\\w{2,3}$'  \n",
    "  \n",
    "def check(email):   \n",
    "  \n",
    "    if(re.search(regex,email)):   \n",
    "        print(\"Valid Email\")   \n",
    "    else:   \n",
    "        print(\"Invalid Email\")   \n",
    "      \n",
    "if __name__ == '__main__' :   \n",
    "    \n",
    "    email = \"ad.min@theschoolofai.in\"\n",
    "    check(email)\n",
    "    \n",
    "    email = \"admin@theschoolofai.in\"\n",
    "    check(email)   "
   ]
  },
  {
   "cell_type": "code",
   "execution_count": null,
   "metadata": {},
   "outputs": [],
   "source": []
  }
 ],
 "metadata": {
  "kernelspec": {
   "display_name": "Python [conda env:pytorch_p36] *",
   "language": "python",
   "name": "conda-env-pytorch_p36-py"
  },
  "language_info": {
   "codemirror_mode": {
    "name": "ipython",
    "version": 3
   },
   "file_extension": ".py",
   "mimetype": "text/x-python",
   "name": "python",
   "nbconvert_exporter": "python",
   "pygments_lexer": "ipython3",
   "version": "3.6.11"
  }
 },
 "nbformat": 4,
 "nbformat_minor": 4
}
