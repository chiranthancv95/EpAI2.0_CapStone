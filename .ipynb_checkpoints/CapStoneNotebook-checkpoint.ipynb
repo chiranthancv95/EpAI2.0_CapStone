{
 "cells": [
  {
   "cell_type": "code",
   "execution_count": 52,
   "metadata": {},
   "outputs": [],
   "source": [
    "# from faker import Faker\n",
    "# import random\n",
    "\n",
    "\n",
    "# fake = Faker()\n",
    "# Faker.seed(4321)\n",
    "\n",
    "# for _ in range(15):\n",
    "#       print(fake.name(), random.randint(0,100), fake.email())"
   ]
  },
  {
   "cell_type": "code",
   "execution_count": null,
   "metadata": {},
   "outputs": [],
   "source": []
  },
  {
   "cell_type": "code",
   "execution_count": 1,
   "metadata": {},
   "outputs": [],
   "source": [
    "import pandas as pd\n",
    "from faker import Faker\n",
    "import random\n",
    "\n",
    "\n",
    "fake = Faker()\n",
    "Faker.seed(4321)\n",
    "\n",
    "names=[fake.name() for x in range(15)]\n",
    "scores=[random.randint(70,100) for x in range(15)]\n",
    "emails=[fake.email() for x in range(15)]\n",
    "   \n",
    "# dictionary of lists \n",
    "dict1 = {'name': names, 'score': scores, 'email': emails} \n",
    "\n",
    "df = pd.DataFrame(dict1,columns=['name', 'score', 'email'])\n",
    "  \n",
    "# saving the dataframe\n",
    "df.to_csv('file2.csv')"
   ]
  },
  {
   "cell_type": "code",
   "execution_count": 2,
   "metadata": {},
   "outputs": [
    {
     "name": "stdout",
     "output_type": "stream",
     "text": [
      "    Unnamed: 0               name  score                              email\n",
      "0            0        Jason Brown     93  colonmichelle@williams-harris.com\n",
      "1            1        Jacob Stein     98           fosterroberto@garcia.net\n",
      "2            2         Cody Brown     72             millermary@hotmail.com\n",
      "3            3      Larry Morales     86              lvalencia@hotmail.com\n",
      "4            4  Jessica Hendricks     84           cherylsimon@campbell.com\n",
      "5            5        Brian Moore     72           tbennett@rios-valdez.com\n",
      "6            6        Scott Baker     79             victoria83@johnson.com\n",
      "7            7       Ruth Hoffman     80              hodgesjeff@nguyen.org\n",
      "8            8      Daniel George     80                  snguyen@gmail.com\n",
      "9            9        David Moody     77           gonzalezedwin@miller.com\n",
      "10          10      Brian Maxwell     93                tylerryan@gmail.com\n",
      "11          11        Cory Cooper     75          gentrygarrett@hotmail.com\n",
      "12          12      Morgan Foster     96            valdezkatie@baldwin.net\n",
      "13          13     James Sandoval     74          christopher40@hoffman.com\n",
      "14          14       Brian Lester     76                   kyle56@brown.com\n"
     ]
    }
   ],
   "source": [
    "df2 = pd.read_csv('file2.csv')\n",
    "print(df2)"
   ]
  },
  {
   "cell_type": "code",
   "execution_count": 3,
   "metadata": {},
   "outputs": [],
   "source": [
    "df2=df2.drop(df2.columns[0], axis=1)"
   ]
  },
  {
   "cell_type": "code",
   "execution_count": 4,
   "metadata": {},
   "outputs": [
    {
     "data": {
      "text/html": [
       "<div>\n",
       "<style scoped>\n",
       "    .dataframe tbody tr th:only-of-type {\n",
       "        vertical-align: middle;\n",
       "    }\n",
       "\n",
       "    .dataframe tbody tr th {\n",
       "        vertical-align: top;\n",
       "    }\n",
       "\n",
       "    .dataframe thead th {\n",
       "        text-align: right;\n",
       "    }\n",
       "</style>\n",
       "<table border=\"1\" class=\"dataframe\">\n",
       "  <thead>\n",
       "    <tr style=\"text-align: right;\">\n",
       "      <th></th>\n",
       "      <th>name</th>\n",
       "      <th>score</th>\n",
       "      <th>email</th>\n",
       "    </tr>\n",
       "  </thead>\n",
       "  <tbody>\n",
       "    <tr>\n",
       "      <th>0</th>\n",
       "      <td>Jason Brown</td>\n",
       "      <td>93</td>\n",
       "      <td>colonmichelle@williams-harris.com</td>\n",
       "    </tr>\n",
       "    <tr>\n",
       "      <th>1</th>\n",
       "      <td>Jacob Stein</td>\n",
       "      <td>98</td>\n",
       "      <td>fosterroberto@garcia.net</td>\n",
       "    </tr>\n",
       "    <tr>\n",
       "      <th>2</th>\n",
       "      <td>Cody Brown</td>\n",
       "      <td>72</td>\n",
       "      <td>millermary@hotmail.com</td>\n",
       "    </tr>\n",
       "    <tr>\n",
       "      <th>3</th>\n",
       "      <td>Larry Morales</td>\n",
       "      <td>86</td>\n",
       "      <td>lvalencia@hotmail.com</td>\n",
       "    </tr>\n",
       "    <tr>\n",
       "      <th>4</th>\n",
       "      <td>Jessica Hendricks</td>\n",
       "      <td>84</td>\n",
       "      <td>cherylsimon@campbell.com</td>\n",
       "    </tr>\n",
       "    <tr>\n",
       "      <th>5</th>\n",
       "      <td>Brian Moore</td>\n",
       "      <td>72</td>\n",
       "      <td>tbennett@rios-valdez.com</td>\n",
       "    </tr>\n",
       "    <tr>\n",
       "      <th>6</th>\n",
       "      <td>Scott Baker</td>\n",
       "      <td>79</td>\n",
       "      <td>victoria83@johnson.com</td>\n",
       "    </tr>\n",
       "    <tr>\n",
       "      <th>7</th>\n",
       "      <td>Ruth Hoffman</td>\n",
       "      <td>80</td>\n",
       "      <td>hodgesjeff@nguyen.org</td>\n",
       "    </tr>\n",
       "    <tr>\n",
       "      <th>8</th>\n",
       "      <td>Daniel George</td>\n",
       "      <td>80</td>\n",
       "      <td>snguyen@gmail.com</td>\n",
       "    </tr>\n",
       "    <tr>\n",
       "      <th>9</th>\n",
       "      <td>David Moody</td>\n",
       "      <td>77</td>\n",
       "      <td>gonzalezedwin@miller.com</td>\n",
       "    </tr>\n",
       "    <tr>\n",
       "      <th>10</th>\n",
       "      <td>Brian Maxwell</td>\n",
       "      <td>93</td>\n",
       "      <td>tylerryan@gmail.com</td>\n",
       "    </tr>\n",
       "    <tr>\n",
       "      <th>11</th>\n",
       "      <td>Cory Cooper</td>\n",
       "      <td>75</td>\n",
       "      <td>gentrygarrett@hotmail.com</td>\n",
       "    </tr>\n",
       "    <tr>\n",
       "      <th>12</th>\n",
       "      <td>Morgan Foster</td>\n",
       "      <td>96</td>\n",
       "      <td>valdezkatie@baldwin.net</td>\n",
       "    </tr>\n",
       "    <tr>\n",
       "      <th>13</th>\n",
       "      <td>James Sandoval</td>\n",
       "      <td>74</td>\n",
       "      <td>christopher40@hoffman.com</td>\n",
       "    </tr>\n",
       "    <tr>\n",
       "      <th>14</th>\n",
       "      <td>Brian Lester</td>\n",
       "      <td>76</td>\n",
       "      <td>kyle56@brown.com</td>\n",
       "    </tr>\n",
       "  </tbody>\n",
       "</table>\n",
       "</div>"
      ],
      "text/plain": [
       "                 name  score                              email\n",
       "0         Jason Brown     93  colonmichelle@williams-harris.com\n",
       "1         Jacob Stein     98           fosterroberto@garcia.net\n",
       "2          Cody Brown     72             millermary@hotmail.com\n",
       "3       Larry Morales     86              lvalencia@hotmail.com\n",
       "4   Jessica Hendricks     84           cherylsimon@campbell.com\n",
       "5         Brian Moore     72           tbennett@rios-valdez.com\n",
       "6         Scott Baker     79             victoria83@johnson.com\n",
       "7        Ruth Hoffman     80              hodgesjeff@nguyen.org\n",
       "8       Daniel George     80                  snguyen@gmail.com\n",
       "9         David Moody     77           gonzalezedwin@miller.com\n",
       "10      Brian Maxwell     93                tylerryan@gmail.com\n",
       "11        Cory Cooper     75          gentrygarrett@hotmail.com\n",
       "12      Morgan Foster     96            valdezkatie@baldwin.net\n",
       "13     James Sandoval     74          christopher40@hoffman.com\n",
       "14       Brian Lester     76                   kyle56@brown.com"
      ]
     },
     "execution_count": 4,
     "metadata": {},
     "output_type": "execute_result"
    }
   ],
   "source": [
    "df2"
   ]
  },
  {
   "cell_type": "code",
   "execution_count": 8,
   "metadata": {},
   "outputs": [],
   "source": [
    "def brands(*files):\n",
    "    for f_name in files:\n",
    "        with open(f_name) as f:\n",
    "            for line in f:\n",
    "                yield line.strip('\\n')"
   ]
  },
  {
   "cell_type": "code",
   "execution_count": 14,
   "metadata": {},
   "outputs": [
    {
     "name": "stdout",
     "output_type": "stream",
     "text": [
      ",name,score,email, 0,Jason Brown,51,colonmichelle@williams-harris.com, 1,Jacob Stein,34,fosterroberto@garcia.net, 2,Cody Brown,42,millermary@hotmail.com, 3,Larry Morales,45,lvalencia@hotmail.com, 4,Jessica Hendricks,33,cherylsimon@campbell.com, 5,Brian Moore,0,tbennett@rios-valdez.com, 6,Scott Baker,80,victoria83@johnson.com, 7,Ruth Hoffman,90,hodgesjeff@nguyen.org, 8,Daniel George,71,snguyen@gmail.com, 9,David Moody,78,gonzalezedwin@miller.com, 10,Brian Maxwell,90,tylerryan@gmail.com, 11,Cory Cooper,0,gentrygarrett@hotmail.com, 12,Morgan Foster,58,valdezkatie@baldwin.net, 13,James Sandoval,99,christopher40@hoffman.com, 14,Brian Lester,1,kyle56@brown.com, ,name,score,email, 0,Jason Brown,93,colonmichelle@williams-harris.com, 1,Jacob Stein,98,fosterroberto@garcia.net, 2,Cody Brown,72,millermary@hotmail.com, 3,Larry Morales,86,lvalencia@hotmail.com, 4,Jessica Hendricks,84,cherylsimon@campbell.com, 5,Brian Moore,72,tbennett@rios-valdez.com, 6,Scott Baker,79,victoria83@johnson.com, 7,Ruth Hoffman,80,hodgesjeff@nguyen.org, 8,Daniel George,80,snguyen@gmail.com, 9,David Moody,77,gonzalezedwin@miller.com, 10,Brian Maxwell,93,tylerryan@gmail.com, 11,Cory Cooper,75,gentrygarrett@hotmail.com, 12,Morgan Foster,96,valdezkatie@baldwin.net, 13,James Sandoval,74,christopher40@hoffman.com, 14,Brian Lester,76,kyle56@brown.com, "
     ]
    }
   ],
   "source": [
    "files = 'file1.csv', 'file2.csv'\n",
    "for brand in brands(*files):\n",
    "    print(brand, end = ', ')"
   ]
  },
  {
   "cell_type": "code",
   "execution_count": null,
   "metadata": {},
   "outputs": [],
   "source": []
  },
  {
   "cell_type": "code",
   "execution_count": null,
   "metadata": {},
   "outputs": [],
   "source": []
  },
  {
   "cell_type": "code",
   "execution_count": null,
   "metadata": {},
   "outputs": [],
   "source": []
  },
  {
   "cell_type": "code",
   "execution_count": 5,
   "metadata": {},
   "outputs": [],
   "source": [
    "# for testing emails, just check whether the mail id within @ symbol is the same or not with the dot and without"
   ]
  },
  {
   "cell_type": "code",
   "execution_count": 6,
   "metadata": {},
   "outputs": [
    {
     "name": "stdout",
     "output_type": "stream",
     "text": [
      "(720, 1040, 3)\n"
     ]
    }
   ],
   "source": [
    "import cv2\n",
    "\n",
    "img=cv2.imread(\"/home/cv/workspace2/EpAI2.0_CapStone/certificate.jpg\")\n",
    "print(img.shape)"
   ]
  },
  {
   "cell_type": "code",
   "execution_count": 7,
   "metadata": {},
   "outputs": [],
   "source": [
    "#Pixel Coordinates\n",
    "#Course name=[332,309] to [672,309]\n",
    "#Name=[347,452] to [688,452]\n",
    "#Date=[196,535] to [422,535]\n",
    "#Signature=[626,535] to [855,535]"
   ]
  },
  {
   "cell_type": "code",
   "execution_count": 8,
   "metadata": {},
   "outputs": [
    {
     "data": {
      "text/plain": [
       "True"
      ]
     },
     "execution_count": 8,
     "metadata": {},
     "output_type": "execute_result"
    }
   ],
   "source": [
    "files = 'car-brands-1.txt', 'car-brands-2.txt', 'car-brands-3.txt'\n",
    "for brand in brands(*files):\n",
    "    print(brand, end = ', ')import cv2\n",
    "\n",
    "img=cv2.imread(\"/home/cv/workspace2/EpAI2.0_CapStone/certificate.jpg\")\n",
    "\n",
    "# Window name in which image is displayed\n",
    "window_name = 'Image'\n",
    "  \n",
    "# font\n",
    "font = cv2.FONT_HERSHEY_SIMPLEX\n",
    "\n",
    "# fontScale\n",
    "fontScale = 1\n",
    "   \n",
    "# Blue color in BGR\n",
    "color = (0, 0, 0)\n",
    "  \n",
    "# Line thickness of 2 px\n",
    "thickness = 2\n",
    "\n",
    "#positions\n",
    "course_position = (370,299)\n",
    "image = cv2.putText(img, 'EPAI 2.0 Course', course_position, font, \n",
    "                   fontScale, color, thickness, cv2.LINE_AA)\n",
    "name_position = (400,440)\n",
    "image = cv2.putText(img, 'Jason Brown', name_position, font, \n",
    "                   fontScale, color, thickness, cv2.LINE_AA)\n",
    "date_position = (200,525)\n",
    "image = cv2.putText(img, '24th April 2021', date_position, font, \n",
    "                   0.7, color, 2, cv2.LINE_AA)\n",
    "signature_position = (630,525)\n",
    "image = cv2.putText(img, 'Rohan Shravan', signature_position, font, \n",
    "                   0.7, color, thickness, cv2.LINE_AA)\n",
    "cv2.imwrite('output.png', img)"
   ]
  },
  {
   "cell_type": "code",
   "execution_count": null,
   "metadata": {},
   "outputs": [],
   "source": []
  },
  {
   "cell_type": "code",
   "execution_count": 1,
   "metadata": {},
   "outputs": [],
   "source": [
    "def custom_for_loop(iterable, action_to_do):\n",
    "    iterator = iter(iterable)\n",
    "    done_looping = False\n",
    "    while not done_looping:\n",
    "        try:\n",
    "            item = next(iterator)\n",
    "        except StopIteration:\n",
    "            done_looping = True\n",
    "        else:\n",
    "            action_to_do(item)"
   ]
  },
  {
   "cell_type": "code",
   "execution_count": 2,
   "metadata": {},
   "outputs": [
    {
     "name": "stdout",
     "output_type": "stream",
     "text": [
      "1\n",
      "2\n",
      "3\n",
      "4\n",
      "5\n"
     ]
    }
   ],
   "source": [
    "\n",
    "numbers = {1, 2, 3, 4, 5}\n",
    "custom_for_loop(numbers, print)"
   ]
  },
  {
   "cell_type": "code",
   "execution_count": null,
   "metadata": {},
   "outputs": [],
   "source": []
  }
 ],
 "metadata": {
  "kernelspec": {
   "display_name": "Python [conda env:pytorch_p36] *",
   "language": "python",
   "name": "conda-env-pytorch_p36-py"
  },
  "language_info": {
   "codemirror_mode": {
    "name": "ipython",
    "version": 3
   },
   "file_extension": ".py",
   "mimetype": "text/x-python",
   "name": "python",
   "nbconvert_exporter": "python",
   "pygments_lexer": "ipython3",
   "version": "3.6.11"
  }
 },
 "nbformat": 4,
 "nbformat_minor": 4
}
